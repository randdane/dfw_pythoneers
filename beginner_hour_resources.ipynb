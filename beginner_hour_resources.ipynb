{
 "cells": [
  {
   "cell_type": "markdown",
   "metadata": {},
   "source": [
    "# Recommendations for beginners\n",
    "\n",
    "* https://www.anaconda.com/ - get Python and Jupyter Notebooks easily.\n",
    "* https://pythontutor.com/ - visualize code at each step.\n",
    "* BeginnersGuide\n",
    "    * https://wiki.python.org/moin/BeginnersGuide\n",
    "* Built-in functions\n",
    "    * https://docs.python.org/3/library/functions.html\n",
    "    * https://treyhunner.com/2019/05/python-builtins-worth-learning/\n",
    "* The Python Standard Library\n",
    "    * https://docs.python.org/3/library/index.html\n",
    "* `import this` <- seriously. Run that with Python :)\n",
    "* We are in need of a website.\n",
    "    * https://dfwpythoneers.org/\n",
    "* The Big Book of Small Python Projects by Al Sweigart\n",
    "* Automate the Boring Stuff with Python by Al Sweigart\n",
    "* Learn Python 3 the Hard Way by Zed Shaw\n",
    "* https://realpython.com/\n",
    "* https://pymotw.com/3/ by Doug Hellmann\n",
    "* https://www.codecademy.com/catalog/language/python - good for practicing syntax\n",
    "* https://stackoverflow.com/\n",
    "* Podcasts: `Talk Python to Me`, `Python Bytes`, `Podcast.__init__`, `Test & Code`\n",
    "\n",
    "* https://docs.quantifiedcode.com/\n",
    "* https://nedbatchelder.com/blog/202202/why_your_mock_still_doesnt_work.html\n",
    "* https://github.com/jakevdp/WhirlwindTourOfPython\n",
    "* https://simonwillison.net/\n",
    "* https://roadmap.sh/\n",
    "\n",
    "### Some great speakers:\n",
    "* Raymond Hettinger\n",
    "* David Beazley\n",
    "* Al Sweigart\n",
    "* Ned Batchelder\n",
    "\n"
   ]
  },
  {
   "cell_type": "code",
   "execution_count": null,
   "metadata": {},
   "outputs": [],
   "source": []
  },
  {
   "cell_type": "markdown",
   "metadata": {},
   "source": [
    "# Cat Facts API Testing\n",
    "\n",
    "* Just a random API demo.\n",
    "* https://alexwohlbruck.github.io/cat-facts/docs/"
   ]
  },
  {
   "cell_type": "code",
   "execution_count": 1,
   "metadata": {},
   "outputs": [],
   "source": [
    "base_url = \"https://cat-fact.herokuapp.com\""
   ]
  },
  {
   "cell_type": "code",
   "execution_count": 4,
   "metadata": {},
   "outputs": [
    {
     "name": "stdout",
     "output_type": "stream",
     "text": [
      "https://cat-fact.herokuapp.com/facts\n"
     ]
    }
   ],
   "source": [
    "facts_url = base_url + \"/facts\"\n",
    "# facts_url =  f\"{base_url}/facts\"\n",
    "print(facts_url)"
   ]
  },
  {
   "cell_type": "code",
   "execution_count": 10,
   "metadata": {},
   "outputs": [],
   "source": [
    "import requests"
   ]
  },
  {
   "cell_type": "code",
   "execution_count": 6,
   "metadata": {},
   "outputs": [],
   "source": [
    "r = requests.get(facts_url)"
   ]
  },
  {
   "cell_type": "code",
   "execution_count": 10,
   "metadata": {},
   "outputs": [],
   "source": [
    "# [name for name in dir(r) if not name.startswith('__')]"
   ]
  },
  {
   "cell_type": "code",
   "execution_count": 18,
   "metadata": {},
   "outputs": [
    {
     "data": {
      "text/plain": [
       "274"
      ]
     },
     "execution_count": 18,
     "metadata": {},
     "output_type": "execute_result"
    }
   ],
   "source": [
    "len(r.json()['all'])"
   ]
  },
  {
   "cell_type": "code",
   "execution_count": 19,
   "metadata": {},
   "outputs": [],
   "source": [
    "first_item = r.json()['all'][0]"
   ]
  },
  {
   "cell_type": "code",
   "execution_count": 20,
   "metadata": {},
   "outputs": [
    {
     "data": {
      "text/plain": [
       "{'_id': '591d9b2f227c1a0020d26823',\n",
       " 'text': 'Every year, nearly four million cats are eaten in China as a delicacy.',\n",
       " 'type': 'cat',\n",
       " 'user': {'_id': '5a9ac18c7478810ea6c06381',\n",
       "  'name': {'first': 'Alex', 'last': 'Wohlbruck'}},\n",
       " 'upvotes': 10,\n",
       " 'userUpvoted': None}"
      ]
     },
     "execution_count": 20,
     "metadata": {},
     "output_type": "execute_result"
    }
   ],
   "source": [
    "first_item"
   ]
  },
  {
   "cell_type": "code",
   "execution_count": 1,
   "metadata": {},
   "outputs": [
    {
     "name": "stdout",
     "output_type": "stream",
     "text": [
      "The Zen of Python, by Tim Peters\n",
      "\n",
      "Beautiful is better than ugly.\n",
      "Explicit is better than implicit.\n",
      "Simple is better than complex.\n",
      "Complex is better than complicated.\n",
      "Flat is better than nested.\n",
      "Sparse is better than dense.\n",
      "Readability counts.\n",
      "Special cases aren't special enough to break the rules.\n",
      "Although practicality beats purity.\n",
      "Errors should never pass silently.\n",
      "Unless explicitly silenced.\n",
      "In the face of ambiguity, refuse the temptation to guess.\n",
      "There should be one-- and preferably only one --obvious way to do it.\n",
      "Although that way may not be obvious at first unless you're Dutch.\n",
      "Now is better than never.\n",
      "Although never is often better than *right* now.\n",
      "If the implementation is hard to explain, it's a bad idea.\n",
      "If the implementation is easy to explain, it may be a good idea.\n",
      "Namespaces are one honking great idea -- let's do more of those!\n"
     ]
    }
   ],
   "source": [
    "import this"
   ]
  },
  {
   "cell_type": "code",
   "execution_count": 9,
   "metadata": {},
   "outputs": [],
   "source": [
    "import antigravity"
   ]
  },
  {
   "cell_type": "markdown",
   "metadata": {},
   "source": [
    "\n",
    "\n",
    "* BeginnersGuide\n",
    "    * https://wiki.python.org/moin/BeginnersGuide\n",
    "* Built-in functions\n",
    "    * https://docs.python.org/3/library/functions.html\n",
    "    * https://treyhunner.com/2019/05/python-builtins-worth-learning/\n",
    "* The Python Standard Library\n",
    "    * https://docs.python.org/3/library/index.html\n",
    "* `import this`\n",
    "* https://realpython.com/\n",
    "\n",
    "https://github.com/dfwpython/dfwpythoneers.org\n",
    "https://acloudguru.com/blog/news/pluralsight-to-acquire-a-cloud-guru\n",
    "https://stackoverflow.com/questions/4338700/finding-out-what-interfaces-are-queryable-for-a-com-object\n",
    "https://dfw.cbslocal.com/2021/06/21/covid-19-delta-variant-accelerating-texas/\n",
    "https://colab.research.google.com/drive/1M-JEmmg1yB9F0GIYkg-3YG8VjgxgtKuv?usp=sharing\n",
    "https://github.com/OceanTrader1/folder-watcher\n",
    "https://rszalski.github.io/magicmethods/#numeric\n",
    "https://trio.readthedocs.io/en/stable/\n",
    "\n"
   ]
  },
  {
   "cell_type": "code",
   "execution_count": null,
   "metadata": {},
   "outputs": [],
   "source": []
  }
 ],
 "metadata": {
  "kernelspec": {
   "display_name": "Python 3",
   "language": "python",
   "name": "python3"
  },
  "language_info": {
   "codemirror_mode": {
    "name": "ipython",
    "version": 3
   },
   "file_extension": ".py",
   "mimetype": "text/x-python",
   "name": "python",
   "nbconvert_exporter": "python",
   "pygments_lexer": "ipython3",
   "version": "3.8.8"
  }
 },
 "nbformat": 4,
 "nbformat_minor": 4
}
